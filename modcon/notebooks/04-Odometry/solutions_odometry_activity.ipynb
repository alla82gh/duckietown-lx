{
 "cells": [
  {
   "cell_type": "markdown",
   "metadata": {},
   "source": [
    "<p style=\"text-align: center\">\n",
    "<img src=\"../../assets/images/dtlogo.png\" alt=\"Duckietown\" width=\"50%\">\n",
    "</p>"
   ]
  },
  {
   "cell_type": "markdown",
   "metadata": {},
   "source": [
    "# 🚙 💻 05 - Wheel encoder based odometry (SOLUTIONS)"
   ]
  },
  {
   "cell_type": "markdown",
   "metadata": {},
   "source": [
    "# 🚙 💻 Let's get started!\n",
    "\n",
    "In this activity you will write a function that produces an estimate of the pose of the Duckiebot, given mesurements from the wheel encoders and an initial position:"
   ]
  },
  {
   "cell_type": "code",
   "execution_count": 1,
   "metadata": {
    "collapsed": false,
    "pycharm": {
     "name": "#%%\n"
    }
   },
   "outputs": [],
   "source": [
    "%load_ext autoreload\n",
    "%autoreload 2"
   ]
  },
  {
   "cell_type": "code",
   "execution_count": 2,
   "metadata": {},
   "outputs": [],
   "source": [
    "x0 = y0 = 0 # meters\n",
    "theta0 = 0 # radians"
   ]
  },
  {
   "cell_type": "code",
   "execution_count": 3,
   "metadata": {},
   "outputs": [
    {
     "name": "stdout",
     "output_type": "stream",
     "text": [
      "The angular resolution of our encoders is: 2.6666666666666665 degrees\n"
     ]
    }
   ],
   "source": [
    "import numpy as np \n",
    " \n",
    "N_tot = 135 # total number of ticks per revolution\n",
    "alpha = 2 * np.pi / N_tot # wheel rotation per tick in radians\n",
    "\n",
    "print(f\"The angular resolution of our encoders is: {np.rad2deg(alpha)} degrees\")"
   ]
  },
  {
   "cell_type": "code",
   "execution_count": 4,
   "metadata": {},
   "outputs": [],
   "source": [
    "# Feel free to play with the numbers to get an idea of the expected outcome\n",
    "\n",
    "ticks_left = 1\n",
    "prev_tick_left = 0\n",
    "\n",
    "ticks_right = 0\n",
    "prev_tick_right = 0"
   ]
  },
  {
   "cell_type": "code",
   "execution_count": 5,
   "metadata": {},
   "outputs": [
    {
     "name": "stdout",
     "output_type": "stream",
     "text": [
      "The left wheel rotated: 2.6666666666666665 degrees\n",
      "The right wheel rotated: 0.0 degrees\n"
     ]
    }
   ],
   "source": [
    "# How much would the wheels rotate with the above tick measurements? \n",
    "\n",
    "delta_ticks_left = ticks_left-prev_tick_left # delta ticks of left wheel \n",
    "delta_ticks_right = ticks_right-prev_tick_right # delta ticks of right wheel \n",
    "\n",
    "rotation_wheel_left = alpha * delta_ticks_left # total rotation of left wheel \n",
    "rotation_wheel_right = alpha * delta_ticks_right # total rotation of right wheel \n",
    "\n",
    "print(f\"The left wheel rotated: {np.rad2deg(rotation_wheel_left)} degrees\")\n",
    "print(f\"The right wheel rotated: {np.rad2deg(rotation_wheel_right)} degrees\")"
   ]
  },
  {
   "cell_type": "code",
   "execution_count": 6,
   "metadata": {},
   "outputs": [],
   "source": [
    "# What is the radius of your wheels? \n",
    "R = 0.0318 # insert value measured by ruler, in *meters*"
   ]
  },
  {
   "cell_type": "code",
   "execution_count": 7,
   "metadata": {},
   "outputs": [
    {
     "name": "stdout",
     "output_type": "stream",
     "text": [
      "The left wheel travelled: 0.0014800392056911916 meters\n",
      "The right wheel rotated: 0.0 meters\n"
     ]
    }
   ],
   "source": [
    "# What is the distance travelled by each wheel?\n",
    "\n",
    "d_left = R * rotation_wheel_left \n",
    "d_right = R * rotation_wheel_right\n",
    "\n",
    "print(f\"The left wheel travelled: {d_left} meters\")\n",
    "print(f\"The right wheel rotated: {d_right} meters\")"
   ]
  },
  {
   "cell_type": "code",
   "execution_count": 8,
   "metadata": {},
   "outputs": [
    {
     "name": "stdout",
     "output_type": "stream",
     "text": [
      "The robot has travelled: 0.0007400196028455958 meters\n"
     ]
    }
   ],
   "source": [
    "# How much has the robot travelled? \n",
    "\n",
    "d_A = (d_left + d_right)/2\n",
    "\n",
    "print(f\"The robot has travelled: {d_A} meters\")"
   ]
  },
  {
   "cell_type": "code",
   "execution_count": 9,
   "metadata": {},
   "outputs": [],
   "source": [
    "# What is the baseline length of your robot? \n",
    "\n",
    "baseline_wheel2wheel = 0.1 #  Distance between the center of the two wheels, expressed in meters "
   ]
  },
  {
   "cell_type": "code",
   "execution_count": 10,
   "metadata": {},
   "outputs": [
    {
     "name": "stdout",
     "output_type": "stream",
     "text": [
      "The robot has rotated: -0.8480000000000001 degrees\n"
     ]
    }
   ],
   "source": [
    "# How much has the robot rotated? \n",
    "\n",
    "Delta_Theta = (d_right-d_left)/baseline_wheel2wheel # expressed in radians\n",
    "\n",
    "print(f\"The robot has rotated: {np.rad2deg(Delta_Theta)} degrees\")"
   ]
  },
  {
   "cell_type": "markdown",
   "metadata": {},
   "source": [
    "## Calculating the rotation of each wheel\n",
    "\n",
    "Implement the function `delta_phi` inside the file `packages/solution/odometry_activity.py`.\n",
    "This function computes wheel rotation in radians from wheel rotation readings in encoder ticks."
   ]
  },
  {
   "cell_type": "code",
   "execution_count": 11,
   "metadata": {},
   "outputs": [],
   "source": [
    "from typing import Tuple\n",
    "\n",
    "def delta_phi(ticks: int, prev_ticks: int, resolution: int) -> Tuple[float, float]:\n",
    "    \"\"\"\n",
    "        Args:\n",
    "            ticks: Current tick count from the encoders.\n",
    "            prev_ticks: Previous tick count from the encoders.\n",
    "            resolution: Number of ticks per full wheel rotation returned by the encoder.\n",
    "        Return:\n",
    "            rotation_wheel: Rotation of the wheel in radians.\n",
    "            ticks: current number of ticks.\n",
    "    \"\"\"\n",
    "\n",
    "    delta_ticks = ticks-prev_ticks\n",
    "\n",
    "    # Assuming no wheel slipping\n",
    "    dphi = 2*np.pi*delta_ticks/resolution\n",
    "\n",
    "\n",
    "    return dphi, ticks"
   ]
  },
  {
   "cell_type": "markdown",
   "metadata": {},
   "source": [
    "## Estimating the odometry\n",
    "\n",
    "Implement the function `pose_estimation` inside the file `packages/solution/odometry_activity.py`.\n",
    "This function computes the `(x, y, theta)` estimate by aggregating computed wheel rotations and the (known) geometry of the robot."
   ]
  },
  {
   "cell_type": "code",
   "execution_count": 12,
   "metadata": {},
   "outputs": [],
   "source": [
    "def pose_estimation(\n",
    "        R: float,\n",
    "        baseline: float,\n",
    "        x_prev: float,\n",
    "        y_prev: float,\n",
    "        theta_prev: float,\n",
    "        delta_phi_left: float,\n",
    "        delta_phi_right: float,\n",
    ") -> Tuple[float, float, float]:\n",
    "    \"\"\"\n",
    "    Calculate the current Duckiebot pose using the dead-reckoning approach.\n",
    "\n",
    "    Args:\n",
    "        R:                  radius of wheel (assumed identical) - this is fixed in simulation,\n",
    "                            and will be imported from your saved calibration for the real robot\n",
    "        baseline:           distance from wheel to wheel; 2L of the theory\n",
    "        x_prev:             previous x estimate - assume given\n",
    "        y_prev:             previous y estimate - assume given\n",
    "        theta_prev:         previous orientation estimate - assume given\n",
    "        delta_phi_left:     left wheel rotation (rad)\n",
    "        delta_phi_right:    right wheel rotation (rad)\n",
    "\n",
    "    Return:\n",
    "        x:                  estimated x coordinate\n",
    "        y:                  estimated y coordinate\n",
    "        theta:              estimated heading\n",
    "    \"\"\"\n",
    "\n",
    "    # x_curr = x_prev + R*(delta_phi_left+delta_phi_right)*np.cos(theta_prev)/2\n",
    "    # y_curr = y_prev + R*(delta_phi_left+delta_phi_right)*np.sin(theta_prev)/2\n",
    "    # theta_curr = theta_prev + R*(delta_phi_right-delta_phi_left)/(baseline)\n",
    "\n",
    "   \n",
    "    w = [R, 2*R / baseline, 1]\n",
    "\n",
    "    x = np.array(\n",
    "        [\n",
    "            [\n",
    "                (delta_phi_left + delta_phi_right) * np.cos(theta_prev) / 2,\n",
    "                (delta_phi_left + delta_phi_right) * np.sin(theta_prev) / 2,\n",
    "                0,\n",
    "            ],\n",
    "            [0, 0, (delta_phi_right - delta_phi_left) / 2],\n",
    "            [x_prev, y_prev, theta_prev],\n",
    "        ]\n",
    "    )\n",
    "\n",
    "    x_curr, y_curr, theta_curr = np.array(w).dot(x)\n",
    "\n",
    "    return x_curr, y_curr, theta_curr\n"
   ]
  },
  {
   "cell_type": "markdown",
   "metadata": {},
   "source": [
    "## Test it out"
   ]
  },
  {
   "cell_type": "code",
   "execution_count": 13,
   "metadata": {},
   "outputs": [
    {
     "data": {
      "image/png": "[encoded data removed]",
      "text/plain": [
       "<Figure size 640x480 with 1 Axes>"
      ]
     },
     "metadata": {},
     "output_type": "display_data"
    },
    {
     "data": {
      "text/plain": [
       "<tests.unit_test.UnitTestOdometry at 0x7fcb18460c70>"
      ]
     },
     "execution_count": 13,
     "metadata": {},
     "output_type": "execute_result"
    }
   ],
   "source": [
    "from tests.unit_test import UnitTestOdometry\n",
    "\n",
    "from solution.odometry_activity import pose_estimation\n",
    "\n",
    "# This function has hardcoded values (bad practice!) to test the `pose_estimation` function above.\n",
    "# The test will be successful if you get a circle. Anything short of a circle.. probably best to go back and check.\n",
    "\n",
    "UnitTestOdometry(R, baseline_wheel2wheel, pose_estimation)"
   ]
  },
  {
   "cell_type": "code",
   "execution_count": null,
   "metadata": {},
   "outputs": [],
   "source": []
  }
 ],
 "metadata": {
  "kernelspec": {
   "display_name": "Python 3.8.10 64-bit",
   "language": "python",
   "name": "python3"
  },
  "language_info": {
   "codemirror_mode": {
    "name": "ipython",
    "version": 3
   },
   "file_extension": ".py",
   "mimetype": "text/x-python",
   "name": "python",
   "nbconvert_exporter": "python",
   "pygments_lexer": "ipython3",
   "version": "3.8.10"
  },
  "vscode": {
   "interpreter": {
    "hash": "916dbcbb3f70747c44a77c7bcd40155683ae19c65e1c03b4aa3499c5328201f1"
   }
  }
 },
 "nbformat": 4,
 "nbformat_minor": 4
}
